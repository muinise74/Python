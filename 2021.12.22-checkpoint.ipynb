{
 "cells": [
  {
   "cell_type": "markdown",
   "id": "a9825373",
   "metadata": {},
   "source": [
    "### 삼항연산자 <a if 조건식 else b>"
   ]
  },
  {
   "cell_type": "code",
   "execution_count": 2,
   "id": "b2145664",
   "metadata": {},
   "outputs": [
    {
     "name": "stdout",
     "output_type": "stream",
     "text": [
      "불합격\n"
     ]
    }
   ],
   "source": [
    "score = 55\n",
    "print('합격') if score >= 60 else print('불합격')"
   ]
  },
  {
   "cell_type": "code",
   "execution_count": 5,
   "id": "ea3f6f8c",
   "metadata": {},
   "outputs": [
    {
     "name": "stdout",
     "output_type": "stream",
     "text": [
      "정수 입력 >> 10\n",
      "정수 입력 >> 3\n",
      "a = 10\n"
     ]
    }
   ],
   "source": [
    "a = int(input(\"정수 입력 >> \"))\n",
    "b = int(input(\"정수 입력 >> \"))\n",
    "print('b = %d'%b) if b > a else print('a = %d'%a) if a > b else print('a = b = %d'%b) "
   ]
  },
  {
   "cell_type": "code",
   "execution_count": 10,
   "id": "04a0371a",
   "metadata": {
    "scrolled": true
   },
   "outputs": [
    {
     "name": "stdout",
     "output_type": "stream",
     "text": [
      "첫 번째 정수 입력 >> 1234125\n",
      "두 번째 정수 입력 >> 3424\n",
      "두 수의 차 : 1230701\n"
     ]
    }
   ],
   "source": [
    "a = int(input(\"첫 번째 정수 입력 >> \"))\n",
    "b = int(input(\"두 번째 정수 입력 >> \"))\n",
    "print(\"두 수의 차 : %d\"%(b-a)) if b > a else print('두 수의 차 : %d'%(a-b))"
   ]
  },
  {
   "cell_type": "code",
   "execution_count": 12,
   "id": "d1f15a21",
   "metadata": {},
   "outputs": [
    {
     "name": "stdout",
     "output_type": "stream",
     "text": [
      "정수 입력 >> 22\n",
      "22는(은) 짝수입니다.\n"
     ]
    }
   ],
   "source": [
    "num = int(input(\"정수 입력 >> \"))\n",
    "print(\"%d는(은) 홀수입니다.\"%num) if num%2==1 else print(\"%d는(은) 짝수입니다.\"%num)"
   ]
  },
  {
   "cell_type": "markdown",
   "id": "b4e37cc1",
   "metadata": {},
   "source": [
    "### 조건문"
   ]
  },
  {
   "cell_type": "code",
   "execution_count": 17,
   "id": "f362aef3",
   "metadata": {},
   "outputs": [
    {
     "name": "stdout",
     "output_type": "stream",
     "text": [
      "if문 밖의 문장 실행\n"
     ]
    }
   ],
   "source": [
    "if False:\n",
    "    print('실행문장 실행')\n",
    "print('if문 밖의 문장 실행')"
   ]
  },
  {
   "cell_type": "code",
   "execution_count": 21,
   "id": "6a76c28a",
   "metadata": {},
   "outputs": [
    {
     "name": "stdout",
     "output_type": "stream",
     "text": [
      "실행문장2\n"
     ]
    }
   ],
   "source": [
    "if False:\n",
    "    print('실행문장1')\n",
    "else:\n",
    "    print('실행문장2')"
   ]
  },
  {
   "cell_type": "code",
   "execution_count": 19,
   "id": "848250eb",
   "metadata": {},
   "outputs": [
    {
     "name": "stdout",
     "output_type": "stream",
     "text": [
      "돈 입력 : 9000\n",
      "버스를 탄다.\n"
     ]
    }
   ],
   "source": [
    "money = int(input(\"돈 입력 : \"))\n",
    "if money >= 10000:\n",
    "    print('택시를 탄다.')\n",
    "else\n",
    "    print('버스를 탄다.')"
   ]
  },
  {
   "cell_type": "code",
   "execution_count": 23,
   "id": "24f89c00",
   "metadata": {},
   "outputs": [
    {
     "name": "stdout",
     "output_type": "stream",
     "text": [
      "정수 입력 >> 7\n",
      "7는 3과 5의 배수가 아닙니다.\n"
     ]
    }
   ],
   "source": [
    "num = int(input('정수 입력 >> '))\n",
    "if num%3 == 0 and num%5 == 0:\n",
    "    print('%d는 %d과 %d의 배수 입니다.'%(num,3,5))\n",
    "else:\n",
    "    print('%d는 %d과 %d의 배수가 아닙니다.'%(num,3,5))"
   ]
  },
  {
   "cell_type": "code",
   "execution_count": 26,
   "id": "f7f92456",
   "metadata": {},
   "outputs": [
    {
     "name": "stdout",
     "output_type": "stream",
     "text": [
      "첫 번째 정수 입력 >> 4\n",
      "두 번째 정수 입력 >> 9\n",
      "두 번쨰 정수가 더 큽니다.\n"
     ]
    }
   ],
   "source": [
    "num1 = int(input('첫 번째 정수 입력 >> '))\n",
    "num2 = int(input('두 번째 정수 입력 >> '))\n",
    "if num1 > num2:\n",
    "    print('첫 번째 정수가 더 큽니다.')\n",
    "elif num2 > num1:\n",
    "    print('두 번쨰 정수가 더 큽니다.')\n",
    "else:\n",
    "    print('두 정수가 같습니다.')"
   ]
  },
  {
   "cell_type": "code",
   "execution_count": 29,
   "id": "fa791232",
   "metadata": {
    "scrolled": true
   },
   "outputs": [
    {
     "name": "stdout",
     "output_type": "stream",
     "text": [
      "점수 입력 : 80\n",
      "B학점\n"
     ]
    }
   ],
   "source": [
    "score = int(input('점수 입력 : '))\n",
    "if score > 100:\n",
    "    print('점수를 잘못 입력하셨습니다.')\n",
    "elif score >= 90:\n",
    "    print('A학점')\n",
    "elif score >= 80:\n",
    "    print('B학점')\n",
    "elif(score >= 70):\n",
    "    print('C학점')\n",
    "elif(score >= 60):\n",
    "    print('D학점')\n",
    "else:\n",
    "    prinf('F학점')"
   ]
  },
  {
   "cell_type": "code",
   "execution_count": 34,
   "id": "19a789a3",
   "metadata": {},
   "outputs": [
    {
     "name": "stdout",
     "output_type": "stream",
     "text": [
      "\n",
      "================================================\n",
      "================---- 자판기 ----================\n",
      "================================================\n",
      "== 1.콜라 == 2.사이다 ==  3.물  =======insert===\n",
      "==--------==----------==--------=======------===\n",
      "==   600  ==    800   ==  1000  ======= O00원===\n",
      "=======================================------===\n",
      "================================================\n",
      "==++++++++++++++++++++++++++++++++++++++++++++==\n",
      "==++++++++++++++++++++++++++++++++++++++++++++==\n",
      "==++++++++++++++++++++++++++++++++++++++++++++==\n",
      "==+++++++++++++++              +++++++++++++++==\n",
      "==+++++++++++++++     SMHRD    +++++++++++++++==\n",
      "==+++++++++++++++              +++++++++++++++==\n",
      "==++++++++++++++++++++++++++++++++++++++++++++==\n",
      "==++++++++++++++++++++++++++++++++++++++++++++==\n",
      "================================================\n",
      "================================================\n",
      "  ===                                      ===\n",
      "  ===                                      ===\n",
      "\n",
      "insult coin >> 5000\n",
      "menu >> 3\n",
      "잔돈 >> 1000원 4개 500원 0개 100원 0개\n"
     ]
    }
   ],
   "source": [
    "print('''\n",
    "================================================\n",
    "================---- 자판기 ----================\n",
    "================================================\n",
    "== 1.콜라 == 2.사이다 ==  3.물  =======insert===\n",
    "==--------==----------==--------=======------===\n",
    "==   600  ==    800   ==  1000  ======= O00원===\n",
    "=======================================------===\n",
    "================================================\n",
    "==++++++++++++++++++++++++++++++++++++++++++++==\n",
    "==++++++++++++++++++++++++++++++++++++++++++++==\n",
    "==++++++++++++++++++++++++++++++++++++++++++++==\n",
    "==+++++++++++++++              +++++++++++++++==\n",
    "==+++++++++++++++     SMHRD    +++++++++++++++==\n",
    "==+++++++++++++++              +++++++++++++++==\n",
    "==++++++++++++++++++++++++++++++++++++++++++++==\n",
    "==++++++++++++++++++++++++++++++++++++++++++++==\n",
    "================================================\n",
    "================================================\n",
    "  ===                                      ===\n",
    "  ===                                      ===\n",
    "''')\n",
    "\n",
    "coin = int(input('insult coin >> '))\n",
    "menu = input('menu >> ')\n",
    "\n",
    "if menu == '1':\n",
    "    coin = coin - 600\n",
    "elif menu == '2':\n",
    "    coin = coin - 800\n",
    "elif menu == '3':\n",
    "    coin = coin - 1000\n",
    "\n",
    "cheon = coin//1000\n",
    "obak = coin%1000//500\n",
    "bak = coin%500//100\n",
    "\n",
    "if coin >=0 :\n",
    "    print('잔돈 >> 1000원 %d개 500원 %d개 100원 %d개'%(cheon,obak,bak))\n",
    "else:\n",
    "    print('잔액부족')\n"
   ]
  },
  {
   "cell_type": "markdown",
   "id": "f3dc51cc",
   "metadata": {},
   "source": [
    "### List & Tuple"
   ]
  },
  {
   "cell_type": "markdown",
   "id": "1eca56cb",
   "metadata": {},
   "source": [
    "### List\n",
    "- Python의 자료구조 형태의 하나\n",
    "- 순서가 있는 수정이 가능한 객체의 집합\n",
    "- 추가,수정,삭제 가능\n",
    "- {}안에 작성"
   ]
  },
  {
   "cell_type": "code",
   "execution_count": 38,
   "id": "9e1c7fd0",
   "metadata": {},
   "outputs": [
    {
     "name": "stdout",
     "output_type": "stream",
     "text": [
      "[]\n",
      "[1, 2, 3]\n",
      "['my', 'name']\n",
      "[1, 2, 'my', 'name']\n",
      "[1, 2, ['my', 'name']]\n"
     ]
    },
    {
     "data": {
      "text/plain": [
       "list"
      ]
     },
     "execution_count": 38,
     "metadata": {},
     "output_type": "execute_result"
    }
   ],
   "source": [
    "a = []\n",
    "b = [1,2,3]\n",
    "c = ['my','name']\n",
    "d = [1,2,'my','name']\n",
    "e = [1,2,['my','name']]\n",
    "print(a)\n",
    "print(b)\n",
    "print(c)\n",
    "print(d)\n",
    "print(e)\n",
    "type(a)"
   ]
  },
  {
   "cell_type": "code",
   "execution_count": 40,
   "id": "59c0cae9",
   "metadata": {},
   "outputs": [
    {
     "name": "stdout",
     "output_type": "stream",
     "text": [
      "2\n",
      "7\n",
      "17\n"
     ]
    }
   ],
   "source": [
    "list = [2,5,7,9,10]\n",
    "print(list[0])\n",
    "print(list[2])\n",
    "print(list[2]+list[4])"
   ]
  },
  {
   "cell_type": "code",
   "execution_count": 41,
   "id": "20da5e76",
   "metadata": {},
   "outputs": [
    {
     "name": "stdout",
     "output_type": "stream",
     "text": [
      "[1, 2, 3, ['a', 'b', 'c']]\n"
     ]
    }
   ],
   "source": [
    "list2 = [1,2,3,['a','b','c']]\n",
    "print(list2)"
   ]
  },
  {
   "cell_type": "code",
   "execution_count": 43,
   "id": "fdc32d76",
   "metadata": {},
   "outputs": [
    {
     "name": "stdout",
     "output_type": "stream",
     "text": [
      "['a', 'b', 'c']\n"
     ]
    }
   ],
   "source": [
    "temp = list2[3]\n",
    "print(temp)"
   ]
  },
  {
   "cell_type": "code",
   "execution_count": 45,
   "id": "df9d7840",
   "metadata": {},
   "outputs": [
    {
     "name": "stdout",
     "output_type": "stream",
     "text": [
      "b\n",
      "b\n"
     ]
    }
   ],
   "source": [
    "print(temp[1])\n",
    "print(list2[3][1])"
   ]
  },
  {
   "cell_type": "code",
   "execution_count": 48,
   "id": "1f422631",
   "metadata": {
    "scrolled": true
   },
   "outputs": [
    {
     "name": "stdout",
     "output_type": "stream",
     "text": [
      "[1, 2]\n",
      "[0, 1]\n",
      "[3, 4]\n"
     ]
    }
   ],
   "source": [
    "list3=[0,1,2,3,4]\n",
    "print(list3[1:3])\n",
    "print(list3[:2])\n",
    "print(list3[3:])"
   ]
  },
  {
   "cell_type": "code",
   "execution_count": 51,
   "id": "4a4aa2e2",
   "metadata": {},
   "outputs": [
    {
     "name": "stdout",
     "output_type": "stream",
     "text": [
      "[1, 2, 3, 3, 4, 5, 6]\n"
     ]
    }
   ],
   "source": [
    "list4 = [1,2,3]\n",
    "list5 = [3,4,5,6]\n",
    "print(list4 + list5)"
   ]
  },
  {
   "cell_type": "code",
   "execution_count": 19,
   "id": "a389b6f5",
   "metadata": {},
   "outputs": [
    {
     "name": "stdout",
     "output_type": "stream",
     "text": [
      "[0, 1, 2, 3, 4, 5]\n",
      "[0, 1, 2, 4, 5]\n",
      "[0, 1, 2, 4]\n",
      "[0, 1, 2, '사과', 4]\n",
      "3\n",
      "1\n",
      "[0, 1, 2, '사과']\n"
     ]
    },
    {
     "data": {
      "text/plain": [
       "4"
      ]
     },
     "execution_count": 19,
     "metadata": {},
     "output_type": "execute_result"
    }
   ],
   "source": [
    "list6 = [0,1,2,3,4]\n",
    "# 맨 뒤에 값을 추가 append 함수\n",
    "list6.append(5)\n",
    "print(list6)\n",
    "# 지정한 값 삭제(리스트에서 처음으로 등장하는 값을 삭제)\n",
    "list6.remove(3)\n",
    "print(list6)\n",
    "# 지정한 index 범위의 값 삭제\n",
    "del list6[4:]\n",
    "print(list6)\n",
    "# 지정한 index에 지정한 값 삽입\n",
    "list6.insert(3,'사과')\n",
    "print(list6)\n",
    "# 정렬 sort(오름차순),reverse(역순)\n",
    "# index() 찾고자하는 값의 위치를 반환\n",
    "print(list6.index('사과'))\n",
    "# count 찾고자하는 값이 몇 번이나 들어있는지 반환\n",
    "print(list6.count('사과'))\n",
    "# pop() 마지막값을 반환 후 삭제, index 값을 입력해서 그 index의 값을 반환하고 삭제 할 수도 있다.\n",
    "list6.pop()\n",
    "print(list6)\n",
    "#len(list) 리스트 개수 반환\n",
    "len(list6)"
   ]
  },
  {
   "cell_type": "code",
   "execution_count": 60,
   "id": "a5f94cc2",
   "metadata": {},
   "outputs": [
    {
     "name": "stdout",
     "output_type": "stream",
     "text": [
      "['사과', '오렌지', '수박']\n"
     ]
    }
   ],
   "source": [
    "list = ['사과','포도',['수박','오렌지'],'복숭아','딸기','오렌지']\n",
    "choice_list = []\n",
    "choice_list.append(list[0])\n",
    "choice_list.append(list[-1])\n",
    "choice_list.append(list[2][0])\n",
    "print(choice_list)"
   ]
  },
  {
   "cell_type": "code",
   "execution_count": 67,
   "id": "497db15d",
   "metadata": {},
   "outputs": [
    {
     "name": "stdout",
     "output_type": "stream",
     "text": [
      "노래 제목 : 롤린\n",
      "가수 : 브레이브 걸스\n",
      "정수 입력 : 1\n",
      "[['롤린', '브레이브 걸스']]\n"
     ]
    }
   ],
   "source": [
    "music_list = []\n",
    "song = input(\"노래 제목 : \")\n",
    "singer = input(\"가수 : \")\n",
    "loc = int(input(\"정수 입력 : \"))\n",
    "music_list.insert(loc,[song,singer])\n",
    "print(music_list)"
   ]
  },
  {
   "cell_type": "code",
   "execution_count": 1,
   "id": "822469d8",
   "metadata": {
    "scrolled": true
   },
   "outputs": [
    {
     "name": "stdout",
     "output_type": "stream",
     "text": [
      "수정 전 1\n",
      "수정 후 7\n"
     ]
    }
   ],
   "source": [
    "list = [0,1,2,3,4,5]\n",
    "print('수정 전',list[1])\n",
    "list[1]= 7\n",
    "print('수정 후',list[1])"
   ]
  },
  {
   "cell_type": "code",
   "execution_count": 2,
   "id": "34459115",
   "metadata": {},
   "outputs": [
    {
     "name": "stdout",
     "output_type": "stream",
     "text": [
      "[0, 7, 2, 7, 7, 5]\n"
     ]
    }
   ],
   "source": [
    "list[3:5] = [7,7]\n",
    "print(list)"
   ]
  },
  {
   "cell_type": "code",
   "execution_count": 4,
   "id": "033d246b",
   "metadata": {
    "scrolled": true
   },
   "outputs": [
    {
     "name": "stdout",
     "output_type": "stream",
     "text": [
      "[1, 2, 3, 4, 7]\n",
      "[1, ['a', 'b', 'b'], 3, 4, 7]\n",
      "[1, ['a', 'b', 'b'], 3, 'd', 'e', 'f', 'g']\n",
      "['h', 'i', 'j', ['a', 'b', 'b'], 3, 'd', 'e', 'f', 'g']\n"
     ]
    }
   ],
   "source": [
    "array = [1,2,3,4,5]\n",
    "array[4] = 7\n",
    "print(array)\n",
    "array[1] = ['a','b','b']\n",
    "print(array)\n",
    "array[3:] = ['d','e','f','g']\n",
    "print(array)\n",
    "array[:1] = ['h','i','j']\n",
    "print(array)"
   ]
  }
 ],
 "metadata": {
  "kernelspec": {
   "display_name": "Python 3 (ipykernel)",
   "language": "python",
   "name": "python3"
  },
  "language_info": {
   "codemirror_mode": {
    "name": "ipython",
    "version": 3
   },
   "file_extension": ".py",
   "mimetype": "text/x-python",
   "name": "python",
   "nbconvert_exporter": "python",
   "pygments_lexer": "ipython3",
   "version": "3.9.7"
  }
 },
 "nbformat": 4,
 "nbformat_minor": 5
}
