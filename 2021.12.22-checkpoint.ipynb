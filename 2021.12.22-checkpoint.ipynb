### 삼항연산자 <a if 조건식 else b>

score = 55
print('합격') if score >= 60 else print('불합격')

a = int(input("정수 입력 >> "))
b = int(input("정수 입력 >> "))
print('b = %d'%b) if b > a else print('a = %d'%a) if a > b else print('a = b = %d'%b) 

a = int(input("첫 번째 정수 입력 >> "))
b = int(input("두 번째 정수 입력 >> "))
print("두 수의 차 : %d"%(b-a)) if b > a else print('두 수의 차 : %d'%(a-b))

num = int(input("정수 입력 >> "))
print("%d는(은) 홀수입니다."%num) if num%2==1 else print("%d는(은) 짝수입니다."%num)

### 조건문

if False:
    print('실행문장 실행')
print('if문 밖의 문장 실행')

if False:
    print('실행문장1')
else:
    print('실행문장2')

money = int(input("돈 입력 : "))
if money >= 10000:
    print('택시를 탄다.')
else
    print('버스를 탄다.')

num = int(input('정수 입력 >> '))
if num%3 == 0 and num%5 == 0:
    print('%d는 %d과 %d의 배수 입니다.'%(num,3,5))
else:
    print('%d는 %d과 %d의 배수가 아닙니다.'%(num,3,5))

num1 = int(input('첫 번째 정수 입력 >> '))
num2 = int(input('두 번째 정수 입력 >> '))
if num1 > num2:
    print('첫 번째 정수가 더 큽니다.')
elif num2 > num1:
    print('두 번쨰 정수가 더 큽니다.')
else:
    print('두 정수가 같습니다.')

score = int(input('점수 입력 : '))
if score > 100:
    print('점수를 잘못 입력하셨습니다.')
elif score >= 90:
    print('A학점')
elif score >= 80:
    print('B학점')
elif(score >= 70):
    print('C학점')
elif(score >= 60):
    print('D학점')
else:
    prinf('F학점')

print('''
================================================
================---- 자판기 ----================
================================================
== 1.콜라 == 2.사이다 ==  3.물  =======insert===
==--------==----------==--------=======------===
==   600  ==    800   ==  1000  ======= O00원===
=======================================------===
================================================
==++++++++++++++++++++++++++++++++++++++++++++==
==++++++++++++++++++++++++++++++++++++++++++++==
==++++++++++++++++++++++++++++++++++++++++++++==
==+++++++++++++++              +++++++++++++++==
==+++++++++++++++     SMHRD    +++++++++++++++==
==+++++++++++++++              +++++++++++++++==
==++++++++++++++++++++++++++++++++++++++++++++==
==++++++++++++++++++++++++++++++++++++++++++++==
================================================
================================================
  ===                                      ===
  ===                                      ===
''')

coin = int(input('insult coin >> '))
menu = input('menu >> ')

if menu == '1':
    coin = coin - 600
elif menu == '2':
    coin = coin - 800
elif menu == '3':
    coin = coin - 1000

cheon = coin//1000
obak = coin%1000//500
bak = coin%500//100

if coin >=0 :
    print('잔돈 >> 1000원 %d개 500원 %d개 100원 %d개'%(cheon,obak,bak))
else:
    print('잔액부족')


### List & Tuple

### List
- Python의 자료구조 형태의 하나
- 순서가 있는 수정이 가능한 객체의 집합
- 추가,수정,삭제 가능
- {}안에 작성

a = []
b = [1,2,3]
c = ['my','name']
d = [1,2,'my','name']
e = [1,2,['my','name']]
print(a)
print(b)
print(c)
print(d)
print(e)
type(a)

list = [2,5,7,9,10]
print(list[0])
print(list[2])
print(list[2]+list[4])

list2 = [1,2,3,['a','b','c']]
print(list2)

temp = list2[3]
print(temp)

print(temp[1])
print(list2[3][1])

list3=[0,1,2,3,4]
print(list3[1:3])
print(list3[:2])
print(list3[3:])

list4 = [1,2,3]
list5 = [3,4,5,6]
print(list4 + list5)

list6 = [0,1,2,3,4]
# 맨 뒤에 값을 추가 append 함수
list6.append(5)
print(list6)
# 지정한 값 삭제(리스트에서 처음으로 등장하는 값을 삭제)
list6.remove(3)
print(list6)
# 지정한 index 범위의 값 삭제
del list6[4:]
print(list6)
# 지정한 index에 지정한 값 삽입
list6.insert(3,'사과')
print(list6)
# 정렬 sort(오름차순),reverse(역순)
# index() 찾고자하는 값의 위치를 반환
print(list6.index('사과'))
# count 찾고자하는 값이 몇 번이나 들어있는지 반환
print(list6.count('사과'))
# pop() 마지막값을 반환 후 삭제, index 값을 입력해서 그 index의 값을 반환하고 삭제 할 수도 있다.
list6.pop()
print(list6)
#len(list) 리스트 개수 반환
len(list6)

list = ['사과','포도',['수박','오렌지'],'복숭아','딸기','오렌지']
choice_list = []
choice_list.append(list[0])
choice_list.append(list[-1])
choice_list.append(list[2][0])
print(choice_list)

music_list = []
song = input("노래 제목 : ")
singer = input("가수 : ")
loc = int(input("정수 입력 : "))
music_list.insert(loc,[song,singer])
print(music_list)

list = [0,1,2,3,4,5]
print('수정 전',list[1])
list[1]= 7
print('수정 후',list[1])

list[3:5] = [7,7]
print(list)

array = [1,2,3,4,5]
array[4] = 7
print(array)
array[1] = ['a','b','b']
print(array)
array[3:] = ['d','e','f','g']
print(array)
array[:1] = ['h','i','j']
print(array)
