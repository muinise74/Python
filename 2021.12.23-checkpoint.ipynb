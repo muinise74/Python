{
 "cells": [
  {
   "cell_type": "markdown",
   "id": "fca8902e",
   "metadata": {},
   "source": [
    "### Tuple\n",
    "- Python의 자료 구조 중 하나\n",
    "- 순서가 있다\n",
    "- 수정,추가,삭제가 불가능\n",
    "- ()안에 작성"
   ]
  },
  {
   "cell_type": "code",
   "execution_count": 1,
   "id": "8105191e",
   "metadata": {
    "scrolled": true
   },
   "outputs": [
    {
     "name": "stdout",
     "output_type": "stream",
     "text": [
      "()\n",
      "<class 'tuple'>\n",
      "(1, 2, 3)\n",
      "('My', 'name')\n",
      "(1, 2, 3, 'My', 'name')\n",
      "(1, 2, ('My', 'name'), 3)\n"
     ]
    }
   ],
   "source": [
    "a = ()\n",
    "print(a)\n",
    "print(type(a))\n",
    "b = (1,2,3)\n",
    "c = ('My',\"name\")\n",
    "d = b + c\n",
    "e = (1,2,('My',\"name\"),3)\n",
    "print(b)\n",
    "print(c)\n",
    "print(d)\n",
    "print(e)"
   ]
  },
  {
   "cell_type": "code",
   "execution_count": 2,
   "id": "3b3f1bb4",
   "metadata": {
    "scrolled": true
   },
   "outputs": [
    {
     "name": "stdout",
     "output_type": "stream",
     "text": [
      "2\n",
      "b\n",
      "(1, 2)\n",
      "6\n"
     ]
    }
   ],
   "source": [
    "tuple1 = (0,1,2,3,('a','b','c'),5)\n",
    "print(tuple1[2])\n",
    "print(tuple1[4][1])\n",
    "print(tuple1[1:3])\n",
    "print(len(tuple1))"
   ]
  },
  {
   "cell_type": "markdown",
   "id": "62165a59",
   "metadata": {},
   "source": [
    "Data의 포함 여부 확인\n",
    "- in, not in"
   ]
  },
  {
   "cell_type": "code",
   "execution_count": 3,
   "id": "ed487158",
   "metadata": {},
   "outputs": [
    {
     "data": {
      "text/plain": [
       "False"
      ]
     },
     "execution_count": 3,
     "metadata": {},
     "output_type": "execute_result"
    }
   ],
   "source": [
    "str = 'Python 최고'\n",
    "\"Python\" not in str"
   ]
  },
  {
   "cell_type": "code",
   "execution_count": 4,
   "id": "5de9610d",
   "metadata": {},
   "outputs": [],
   "source": [
    "list_fruit = ['딸기','바나나','수박','체리','포도']"
   ]
  },
  {
   "cell_type": "code",
   "execution_count": 5,
   "id": "2c0b21b4",
   "metadata": {
    "scrolled": true
   },
   "outputs": [
    {
     "name": "stdout",
     "output_type": "stream",
     "text": [
      "*************************************************\n",
      "검색할 과일을 입력하세요 >> 수박\n",
      "수박는 리스트에 2번째 인덱스에 들어있습니다.\n",
      "*************************************************\n"
     ]
    }
   ],
   "source": [
    "print('*************************************************')\n",
    "a = input('검색할 과일을 입력하세요 >> ')\n",
    "if (a in list_fruit):\n",
    "    print('%s는 리스트에 %d번째 인덱스에 들어있습니다.'%(a,list_fruit.index(a)))\n",
    "else :\n",
    "    print('%s는 리스트에 들어있지 않습니다.'%a)\n",
    "print('*************************************************')"
   ]
  },
  {
   "cell_type": "code",
   "execution_count": 6,
   "id": "86bc9d58",
   "metadata": {},
   "outputs": [],
   "source": [
    "s = 'Hi, My name is do-yeon'"
   ]
  },
  {
   "cell_type": "code",
   "execution_count": 7,
   "id": "083d573b",
   "metadata": {},
   "outputs": [
    {
     "name": "stdout",
     "output_type": "stream",
     "text": [
      "*********************************************\n",
      "검색할 문자를 입력하세요 >> gi\n",
      "'gi'는 문자열에 들어있지 않습니다.\n",
      "*********************************************\n"
     ]
    }
   ],
   "source": [
    "print('*********************************************')\n",
    "b = input('검색할 문자를 입력하세요 >> ')\n",
    "if (b in s):\n",
    "    print(\"'%s'는 문자열에 %d번 들어 있습니다.\"%(b,s.count(b)))\n",
    "else:\n",
    "    print(\"'%s'는 문자열에 들어있지 않습니다.\"%b)\n",
    "print('*********************************************')"
   ]
  },
  {
   "cell_type": "markdown",
   "id": "e9a2adf4",
   "metadata": {},
   "source": [
    "## 반복문\n",
    "- while문 : 반복 회수가 명확하지 않을 때\n",
    "- for문 : 반복 회수가 명확할 때"
   ]
  },
  {
   "cell_type": "code",
   "execution_count": 8,
   "id": "0e4a98ac",
   "metadata": {},
   "outputs": [
    {
     "name": "stdout",
     "output_type": "stream",
     "text": [
      "1. 파이썬 최고\n",
      "2. 파이썬 최고\n",
      "3. 파이썬 최고\n",
      "4. 파이썬 최고\n",
      "5. 파이썬 최고\n",
      "6. 파이썬 최고\n",
      "7. 파이썬 최고\n",
      "8. 파이썬 최고\n",
      "9. 파이썬 최고\n",
      "10. 파이썬 최고\n",
      "11. 파이썬 최고\n",
      "12. 파이썬 최고\n",
      "13. 파이썬 최고\n"
     ]
    }
   ],
   "source": [
    "i = 0\n",
    "while i < 13:\n",
    "    i += 1\n",
    "    print(i,end = '. 파이썬 최고\\n')"
   ]
  },
  {
   "cell_type": "code",
   "execution_count": 9,
   "id": "5dd8101f",
   "metadata": {
    "scrolled": true
   },
   "outputs": [
    {
     "name": "stdout",
     "output_type": "stream",
     "text": [
      "1\n",
      "2\n",
      "3\n"
     ]
    }
   ],
   "source": [
    "num = 1\n",
    "while True:\n",
    "    print(num)\n",
    "    num += 1\n",
    "    if num > 3:\n",
    "        break"
   ]
  },
  {
   "cell_type": "code",
   "execution_count": 16,
   "id": "fecf3ea9",
   "metadata": {},
   "outputs": [
    {
     "name": "stdout",
     "output_type": "stream",
     "text": [
      "첫 번째 정수 입력 >> 0\n",
      "두 번째 정수 입력 >> 0\n",
      "프로그램이 종료되었습니다.\n"
     ]
    }
   ],
   "source": [
    "while True:\n",
    "    num1 = int(input('첫 번째 정수 입력 >> '))\n",
    "    num2 = int(input('두 번째 정수 입력 >> '))\n",
    "   \n",
    "    if num1 == num2 == 0:\n",
    "        print('프로그램이 종료되었습니다.')\n",
    "        break\n",
    "    else:\n",
    "        print('두 정수의 합 : ',num1+num2)"
   ]
  },
  {
   "cell_type": "code",
   "execution_count": 23,
   "id": "5c66b83e",
   "metadata": {},
   "outputs": [
    {
     "name": "stdout",
     "output_type": "stream",
     "text": [
      "현재 몸무게 입력 >> 80\n",
      "목표 몸무게 설정 >> 80\n",
      "1주차 감량 몸무게 : 1\n",
      "감량 결과 :  79\n",
      "79 달성!! 축하합니다!!!\n"
     ]
    }
   ],
   "source": [
    "presentWeight = int(input('현재 몸무게 입력 >> '))\n",
    "goalWeight = int(input('목표 몸무게 설정 >> '))\n",
    "i = 1\n",
    "while True:\n",
    "    loseWeight = int(input('%d주차 감량 몸무게 : '%i))\n",
    "    presentWeight -= loseWeight\n",
    "    print('감량 결과 : ',presentWeight)\n",
    "    i += 1\n",
    "    if presentWeight <= goalWeight:\n",
    "        print('%d 달성!! 축하합니다!!!'%presentWeight)\n",
    "        break"
   ]
  }
 ],
 "metadata": {
  "kernelspec": {
   "display_name": "Python 3 (ipykernel)",
   "language": "python",
   "name": "python3"
  },
  "language_info": {
   "codemirror_mode": {
    "name": "ipython",
    "version": 3
   },
   "file_extension": ".py",
   "mimetype": "text/x-python",
   "name": "python",
   "nbconvert_exporter": "python",
   "pygments_lexer": "ipython3",
   "version": "3.9.7"
  }
 },
 "nbformat": 4,
 "nbformat_minor": 5
}
